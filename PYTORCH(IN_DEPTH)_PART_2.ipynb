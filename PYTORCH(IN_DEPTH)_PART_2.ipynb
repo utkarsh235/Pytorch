{
  "nbformat": 4,
  "nbformat_minor": 0,
  "metadata": {
    "colab": {
      "name": "PYTORCH(IN_DEPTH)_PART_2.ipynb",
      "provenance": [],
      "collapsed_sections": []
    },
    "kernelspec": {
      "name": "python3",
      "display_name": "Python 3"
    },
    "accelerator": "GPU"
  },
  "cells": [
    {
      "cell_type": "code",
      "metadata": {
        "id": "sIeaocIfjjUh",
        "outputId": "54c618a5-2dad-42c3-c54e-c29e2a32a903",
        "colab": {
          "base_uri": "https://localhost:8080/"
        }
      },
      "source": [
        "import tensorflow as tf\n",
        "import os\n",
        "zip_file = tf.keras.utils.get_file(origin=\"https://download.microsoft.com/download/3/E/1/3E1C3F21-ECDB-4869-8368-6DEBA77B919F/kagglecatsanddogs_3367a.zip\", fname=\"cats_vs_dogs.zip\", extract=True, cache_subdir=os.getcwd())\n",
        "base_dir, _ = os.path.splitext(zip_file)\n",
        "print(base_dir)"
      ],
      "execution_count": 1,
      "outputs": [
        {
          "output_type": "stream",
          "text": [
            "Downloading data from https://download.microsoft.com/download/3/E/1/3E1C3F21-ECDB-4869-8368-6DEBA77B919F/kagglecatsanddogs_3367a.zip\n",
            "824901632/824894548 [==============================] - 5s 0us/step\n",
            "/content/cats_vs_dogs\n"
          ],
          "name": "stdout"
        }
      ]
    },
    {
      "cell_type": "code",
      "metadata": {
        "id": "TcDEIU0MkGHz"
      },
      "source": [
        "import numpy as np\n",
        "import matplotlib.pyplot as plt\n",
        "#import tqdm as tqdm \n",
        "from tqdm import tqdm\n",
        "import cv2\n",
        "import torch\n",
        "from torch.utils.data import DataLoader\n",
        "import torch.nn as nn\n",
        "import torchvision\n",
        "import torch.nn.functional as F\n",
        "\n",
        "\n",
        "REBUILD_DATA = True"
      ],
      "execution_count": 2,
      "outputs": []
    },
    {
      "cell_type": "code",
      "metadata": {
        "id": "lTY_yN2ekesQ",
        "outputId": "85aa025b-1092-43bd-c520-3ddd3d2e2f63",
        "colab": {
          "base_uri": "https://localhost:8080/"
        }
      },
      "source": [
        "os.listdir('PetImages')"
      ],
      "execution_count": 3,
      "outputs": [
        {
          "output_type": "execute_result",
          "data": {
            "text/plain": [
              "['Dog', 'Cat']"
            ]
          },
          "metadata": {
            "tags": []
          },
          "execution_count": 3
        }
      ]
    },
    {
      "cell_type": "code",
      "metadata": {
        "id": "2mju5igglig_",
        "outputId": "a6802e45-7aef-4c74-95f7-e29339849e57",
        "colab": {
          "base_uri": "https://localhost:8080/"
        }
      },
      "source": [
        "class cats_vs_dogs():\n",
        "  IMG_SIZE = 50\n",
        "  cat_images = '/content/PetImages/Cat'\n",
        "  dog_images = '/content/PetImages/Dog'\n",
        "  labels = {'Cat' : 0, 'Dog' : 1}\n",
        "  training_data = []\n",
        "  cat_count = 0\n",
        "  dog_count = 0\n",
        "\n",
        "  def make_dataset(self):\n",
        "    for i in self.labels:\n",
        "      folder_path = os.path.join('/content/PetImages', i)\n",
        "      for j in os.listdir(folder_path):\n",
        "        try:\n",
        "          file_path = os.path.join(folder_path, j)\n",
        "          img = cv2.imread(file_path, cv2.IMREAD_GRAYSCALE)\n",
        "          img = cv2.resize(img, (self.IMG_SIZE, self.IMG_SIZE))\n",
        "          self.training_data.append([np.array(img), np.eye(2)[0 if i == 'Cat' else 1]])\n",
        "          if i == 'Cat':\n",
        "            self.cat_count += 1\n",
        "          elif i == 'Dog':\n",
        "            self.dog_count += 1\n",
        "        except Exception as e:\n",
        "          pass \n",
        "\n",
        "    np.random.shuffle(self.training_data)\n",
        "    np.save('training_data.npy', self.training_data)\n",
        "    print('Cats:', self.cat_count)\n",
        "    print('Dog:', self.dog_count)\n",
        "\n",
        "if REBUILD_DATA:\n",
        "  catsvdogs = cats_vs_dogs()\n",
        "  catsvdogs.make_dataset()\n",
        "\t\n",
        "\n"
      ],
      "execution_count": 4,
      "outputs": [
        {
          "output_type": "stream",
          "text": [
            "Cats: 12476\n",
            "Dog: 12470\n"
          ],
          "name": "stdout"
        }
      ]
    },
    {
      "cell_type": "code",
      "metadata": {
        "id": "49dfn9TDqyaH"
      },
      "source": [
        "training_data = np.load('/content/training_data.npy', allow_pickle=True)"
      ],
      "execution_count": 5,
      "outputs": []
    },
    {
      "cell_type": "code",
      "metadata": {
        "id": "ix0FxZ4ltlrL",
        "outputId": "44baba0d-9548-4cd8-a40c-e4434612e6b8",
        "colab": {
          "base_uri": "https://localhost:8080/"
        }
      },
      "source": [
        "print(training_data[1])"
      ],
      "execution_count": 6,
      "outputs": [
        {
          "output_type": "stream",
          "text": [
            "[array([[26, 25, 27, ..., 34, 31, 33],\n",
            "       [31, 33, 33, ..., 37, 35, 36],\n",
            "       [40, 40, 36, ..., 37, 39, 39],\n",
            "       ...,\n",
            "       [75, 84, 82, ..., 25, 21, 22],\n",
            "       [73, 79, 76, ..., 20, 19, 18],\n",
            "       [67, 72, 65, ..., 17, 17, 17]], dtype=uint8)\n",
            " array([1., 0.])]\n"
          ],
          "name": "stdout"
        }
      ]
    },
    {
      "cell_type": "code",
      "metadata": {
        "id": "9wJ_KTWpt5_O"
      },
      "source": [
        "class Net(nn.Module):\n",
        "  def __init__(self):\n",
        "    super().__init__()\n",
        "    self.conv1 = nn.Conv2d(in_channels = 1, out_channels = 32, kernel_size=5, padding=2, stride=1) \n",
        "    self.conv2 = nn.Conv2d(in_channels = 32, out_channels = 64, kernel_size = 5, padding = 2, stride = 1)\n",
        "    self.conv3 = nn.Conv2d(in_channels = 64, out_channels = 128, kernel_size = 5, padding = 2, stride = 1)\n",
        "    #self.fc1 = nn.Flatten((6,6,128), 6*6*128)\n",
        "    self.fc1 = nn.Flatten()\n",
        "    self.fc2 = nn.Linear(6*6*128, 512)\n",
        "    self.out = nn.Linear(512, 2)\n",
        "  \n",
        "\n",
        "\n",
        "  def forward(self, x):\n",
        "    x = F.max_pool2d(F.relu(self.conv1(x)), (2,2)) # Input(50,50,1) , output(25,25,32)\n",
        "    x = F.max_pool2d(F.relu(self.conv2(x)), (2,2)) # Input(25,25,32), Output(12,12,64)\n",
        "    x = F.max_pool2d(F.relu(self.conv3(x)), (2,2)) # Input(12,12,64), Output(6,6,128)\n",
        "    #print(x[0].shape)\n",
        "    x = self.fc1(x) # Input(6,6,128), Output(6*6*128)\n",
        "    x = F.relu(self.fc2(x)) # Input(6*6*128), Output(512)\n",
        "    x = F.softmax(self.out(x), dim=1) # Input(512), Output(2)\n",
        "    return x \n",
        "\n",
        "net = Net()"
      ],
      "execution_count": 20,
      "outputs": []
    },
    {
      "cell_type": "code",
      "metadata": {
        "id": "Wmqz2P4llxvZ",
        "outputId": "62ffb555-d3ce-4331-aed8-94a13df4c545",
        "colab": {
          "base_uri": "https://localhost:8080/"
        }
      },
      "source": [
        "net"
      ],
      "execution_count": 21,
      "outputs": [
        {
          "output_type": "execute_result",
          "data": {
            "text/plain": [
              "Net(\n",
              "  (conv1): Conv2d(1, 32, kernel_size=(5, 5), stride=(1, 1), padding=(2, 2))\n",
              "  (conv2): Conv2d(32, 64, kernel_size=(5, 5), stride=(1, 1), padding=(2, 2))\n",
              "  (conv3): Conv2d(64, 128, kernel_size=(5, 5), stride=(1, 1), padding=(2, 2))\n",
              "  (fc1): Flatten(start_dim=1, end_dim=-1)\n",
              "  (fc2): Linear(in_features=4608, out_features=512, bias=True)\n",
              "  (out): Linear(in_features=512, out_features=2, bias=True)\n",
              ")"
            ]
          },
          "metadata": {
            "tags": []
          },
          "execution_count": 21
        }
      ]
    },
    {
      "cell_type": "code",
      "metadata": {
        "id": "wzcuPlJlzFUJ"
      },
      "source": [
        "from sklearn.model_selection import train_test_split\n",
        "x = torch.Tensor([i[0] for i in training_data])\n",
        "x = x/255.0\n",
        "y = torch.Tensor([i[1] for i in training_data])\n",
        "\n",
        "train_x, val_x, train_y, val_y = train_test_split(x, y, test_size=0.15, shuffle=True)"
      ],
      "execution_count": 22,
      "outputs": []
    },
    {
      "cell_type": "code",
      "metadata": {
        "id": "eTXRBTGDBU_Y",
        "outputId": "c0761a57-0bed-4ad8-b15b-9a76abb1b6cf",
        "colab": {
          "base_uri": "https://localhost:8080/"
        }
      },
      "source": [
        "output = net(x[1].view(-1, 1, 50, 50))\n",
        "output"
      ],
      "execution_count": 23,
      "outputs": [
        {
          "output_type": "execute_result",
          "data": {
            "text/plain": [
              "tensor([[0.4925, 0.5075]], grad_fn=<SoftmaxBackward>)"
            ]
          },
          "metadata": {
            "tags": []
          },
          "execution_count": 23
        }
      ]
    },
    {
      "cell_type": "code",
      "metadata": {
        "id": "2CftE7g7BJ3K",
        "outputId": "a0c9b810-bcd8-4147-aa06-6b161d7311f9",
        "colab": {
          "base_uri": "https://localhost:8080/"
        }
      },
      "source": [
        "train_y.shape"
      ],
      "execution_count": 24,
      "outputs": [
        {
          "output_type": "execute_result",
          "data": {
            "text/plain": [
              "torch.Size([21204, 2])"
            ]
          },
          "metadata": {
            "tags": []
          },
          "execution_count": 24
        }
      ]
    },
    {
      "cell_type": "code",
      "metadata": {
        "id": "jN4yOR10UtlI"
      },
      "source": [
        "if torch.cuda.is_available():\n",
        "  device = torch.device('cuda:0')\n",
        "else:\n",
        "  device = torch.device('cpu')\n",
        "\n",
        "net = Net().to(device)"
      ],
      "execution_count": 25,
      "outputs": []
    },
    {
      "cell_type": "code",
      "metadata": {
        "id": "7NPTeTiRvXjt",
        "outputId": "ce1b9ec3-48af-4236-bf62-1020c3a65a3e",
        "colab": {
          "base_uri": "https://localhost:8080/"
        }
      },
      "source": [
        "import torch.optim as optim \n",
        "optimizer = optim.Adam(net.parameters(), lr=0.001)\n",
        "loss_fn = nn.MSELoss()\n",
        "epochs=50\n",
        "batch_size=100\n",
        "for epoch in tqdm(range(epochs)):\n",
        "  count = 0 \n",
        "  for i in range(0, len(train_x), batch_size):\n",
        "    xs, ys = train_x[i: i+batch_size], train_y[i: i+batch_size]\n",
        "    net.zero_grad()\n",
        "    output = net(xs.view(-1, 1, 50, 50).to(device))\n",
        "    loss = loss_fn(output, ys.to(device))\n",
        "    loss.backward()\n",
        "    optimizer.step()\n",
        "  print(f'epoch : {epoch}, LOSS : {loss}')\n",
        "  #print('LOSS: ', loss)\n",
        "\n",
        "\n",
        "\n",
        "\n",
        "\n",
        "\n",
        "\n",
        "\n",
        "  '''for xs, ys in zip(train_x, train_y):\n",
        "    #print(xs,ys)\n",
        "    net.zero_grad()\n",
        "    output = net(xs.view(-1, 1, 50, 50))\n",
        "    loss = loss_fn(ys, output)\n",
        "    loss.backward()\n",
        "    optimizer.step()\n",
        "    print(f'epoch {epoch}, iteration {count}')\n",
        "    count += 1\n",
        "    if count == 2000:\n",
        "      break\n",
        "  print('LOSS : ', loss)'''\n",
        "    "
      ],
      "execution_count": 29,
      "outputs": [
        {
          "output_type": "stream",
          "text": [
            "\n",
            "  0%|          | 0/50 [00:00<?, ?it/s]\u001b[A\n",
            "  2%|▏         | 1/50 [00:02<02:20,  2.87s/it]\u001b[A"
          ],
          "name": "stderr"
        },
        {
          "output_type": "stream",
          "text": [
            "epoch : 0, LOSS : 0.002539336681365967\n"
          ],
          "name": "stdout"
        },
        {
          "output_type": "stream",
          "text": [
            "\n",
            "  4%|▍         | 2/50 [00:05<02:16,  2.85s/it]\u001b[A"
          ],
          "name": "stderr"
        },
        {
          "output_type": "stream",
          "text": [
            "epoch : 1, LOSS : 0.008569440804421902\n"
          ],
          "name": "stdout"
        },
        {
          "output_type": "stream",
          "text": [
            "\n",
            "  6%|▌         | 3/50 [00:08<02:12,  2.83s/it]\u001b[A"
          ],
          "name": "stderr"
        },
        {
          "output_type": "stream",
          "text": [
            "epoch : 2, LOSS : 0.0035519320517778397\n"
          ],
          "name": "stdout"
        },
        {
          "output_type": "stream",
          "text": [
            "\n",
            "  8%|▊         | 4/50 [00:11<02:09,  2.81s/it]\u001b[A"
          ],
          "name": "stderr"
        },
        {
          "output_type": "stream",
          "text": [
            "epoch : 3, LOSS : 0.017803102731704712\n"
          ],
          "name": "stdout"
        },
        {
          "output_type": "stream",
          "text": [
            "\n",
            " 10%|█         | 5/50 [00:13<02:05,  2.80s/it]\u001b[A"
          ],
          "name": "stderr"
        },
        {
          "output_type": "stream",
          "text": [
            "epoch : 4, LOSS : 0.003584595862776041\n"
          ],
          "name": "stdout"
        },
        {
          "output_type": "stream",
          "text": [
            "\n",
            " 12%|█▏        | 6/50 [00:16<02:02,  2.79s/it]\u001b[A"
          ],
          "name": "stderr"
        },
        {
          "output_type": "stream",
          "text": [
            "epoch : 5, LOSS : 3.193541124346666e-05\n"
          ],
          "name": "stdout"
        },
        {
          "output_type": "stream",
          "text": [
            "\n",
            " 14%|█▍        | 7/50 [00:19<01:59,  2.77s/it]\u001b[A"
          ],
          "name": "stderr"
        },
        {
          "output_type": "stream",
          "text": [
            "epoch : 6, LOSS : 0.00021391588961705565\n"
          ],
          "name": "stdout"
        },
        {
          "output_type": "stream",
          "text": [
            "\n",
            " 16%|█▌        | 8/50 [00:22<01:56,  2.76s/it]\u001b[A"
          ],
          "name": "stderr"
        },
        {
          "output_type": "stream",
          "text": [
            "epoch : 7, LOSS : 0.00011733366409316659\n"
          ],
          "name": "stdout"
        },
        {
          "output_type": "stream",
          "text": [
            "\n",
            " 18%|█▊        | 9/50 [00:24<01:53,  2.76s/it]\u001b[A"
          ],
          "name": "stderr"
        },
        {
          "output_type": "stream",
          "text": [
            "epoch : 8, LOSS : 1.7548913092468865e-05\n"
          ],
          "name": "stdout"
        },
        {
          "output_type": "stream",
          "text": [
            "\n",
            " 20%|██        | 10/50 [00:27<01:50,  2.75s/it]\u001b[A"
          ],
          "name": "stderr"
        },
        {
          "output_type": "stream",
          "text": [
            "epoch : 9, LOSS : 2.324348542970256e-06\n"
          ],
          "name": "stdout"
        },
        {
          "output_type": "stream",
          "text": [
            "\n",
            " 22%|██▏       | 11/50 [00:30<01:47,  2.75s/it]\u001b[A"
          ],
          "name": "stderr"
        },
        {
          "output_type": "stream",
          "text": [
            "epoch : 10, LOSS : 3.3849667602225963e-07\n"
          ],
          "name": "stdout"
        },
        {
          "output_type": "stream",
          "text": [
            "\n",
            " 24%|██▍       | 12/50 [00:33<01:44,  2.74s/it]\u001b[A"
          ],
          "name": "stderr"
        },
        {
          "output_type": "stream",
          "text": [
            "epoch : 11, LOSS : 9.458852900934289e-08\n"
          ],
          "name": "stdout"
        },
        {
          "output_type": "stream",
          "text": [
            "\n",
            " 26%|██▌       | 13/50 [00:35<01:41,  2.74s/it]\u001b[A"
          ],
          "name": "stderr"
        },
        {
          "output_type": "stream",
          "text": [
            "epoch : 12, LOSS : 5.2778958092858375e-08\n"
          ],
          "name": "stdout"
        },
        {
          "output_type": "stream",
          "text": [
            "\n",
            " 28%|██▊       | 14/50 [00:38<01:38,  2.73s/it]\u001b[A"
          ],
          "name": "stderr"
        },
        {
          "output_type": "stream",
          "text": [
            "epoch : 13, LOSS : 2.5943830905816867e-07\n"
          ],
          "name": "stdout"
        },
        {
          "output_type": "stream",
          "text": [
            "\n",
            " 30%|███       | 15/50 [00:41<01:35,  2.73s/it]\u001b[A"
          ],
          "name": "stderr"
        },
        {
          "output_type": "stream",
          "text": [
            "epoch : 14, LOSS : 1.73205480678007e-05\n"
          ],
          "name": "stdout"
        },
        {
          "output_type": "stream",
          "text": [
            "\n",
            " 32%|███▏      | 16/50 [00:44<01:32,  2.73s/it]\u001b[A"
          ],
          "name": "stderr"
        },
        {
          "output_type": "stream",
          "text": [
            "epoch : 15, LOSS : 3.8198615470719233e-07\n"
          ],
          "name": "stdout"
        },
        {
          "output_type": "stream",
          "text": [
            "\n",
            " 34%|███▍      | 17/50 [00:46<01:29,  2.73s/it]\u001b[A"
          ],
          "name": "stderr"
        },
        {
          "output_type": "stream",
          "text": [
            "epoch : 16, LOSS : 3.957205535698449e-06\n"
          ],
          "name": "stdout"
        },
        {
          "output_type": "stream",
          "text": [
            "\n",
            " 36%|███▌      | 18/50 [00:49<01:27,  2.72s/it]\u001b[A"
          ],
          "name": "stderr"
        },
        {
          "output_type": "stream",
          "text": [
            "epoch : 17, LOSS : 3.179234408889897e-05\n"
          ],
          "name": "stdout"
        },
        {
          "output_type": "stream",
          "text": [
            "\n",
            " 38%|███▊      | 19/50 [00:52<01:24,  2.72s/it]\u001b[A"
          ],
          "name": "stderr"
        },
        {
          "output_type": "stream",
          "text": [
            "epoch : 18, LOSS : 2.183079232054297e-06\n"
          ],
          "name": "stdout"
        },
        {
          "output_type": "stream",
          "text": [
            "\n",
            " 40%|████      | 20/50 [00:54<01:21,  2.72s/it]\u001b[A"
          ],
          "name": "stderr"
        },
        {
          "output_type": "stream",
          "text": [
            "epoch : 19, LOSS : 0.00012766127474606037\n"
          ],
          "name": "stdout"
        },
        {
          "output_type": "stream",
          "text": [
            "\n",
            " 42%|████▏     | 21/50 [00:57<01:18,  2.72s/it]\u001b[A"
          ],
          "name": "stderr"
        },
        {
          "output_type": "stream",
          "text": [
            "epoch : 20, LOSS : 3.910084700464722e-09\n"
          ],
          "name": "stdout"
        },
        {
          "output_type": "stream",
          "text": [
            "\n",
            " 44%|████▍     | 22/50 [01:00<01:16,  2.72s/it]\u001b[A"
          ],
          "name": "stderr"
        },
        {
          "output_type": "stream",
          "text": [
            "epoch : 21, LOSS : 2.883682803656029e-08\n"
          ],
          "name": "stdout"
        },
        {
          "output_type": "stream",
          "text": [
            "\n",
            " 46%|████▌     | 23/50 [01:03<01:13,  2.73s/it]\u001b[A"
          ],
          "name": "stderr"
        },
        {
          "output_type": "stream",
          "text": [
            "epoch : 22, LOSS : 6.369526090566069e-06\n"
          ],
          "name": "stdout"
        },
        {
          "output_type": "stream",
          "text": [
            "\n",
            " 48%|████▊     | 24/50 [01:05<01:10,  2.73s/it]\u001b[A"
          ],
          "name": "stderr"
        },
        {
          "output_type": "stream",
          "text": [
            "epoch : 23, LOSS : 3.1347879847487548e-09\n"
          ],
          "name": "stdout"
        },
        {
          "output_type": "stream",
          "text": [
            "\n",
            " 50%|█████     | 25/50 [01:08<01:08,  2.73s/it]\u001b[A"
          ],
          "name": "stderr"
        },
        {
          "output_type": "stream",
          "text": [
            "epoch : 24, LOSS : 9.199826317418669e-11\n"
          ],
          "name": "stdout"
        },
        {
          "output_type": "stream",
          "text": [
            "\n",
            " 52%|█████▏    | 26/50 [01:11<01:05,  2.74s/it]\u001b[A"
          ],
          "name": "stderr"
        },
        {
          "output_type": "stream",
          "text": [
            "epoch : 25, LOSS : 0.00019923003856092691\n"
          ],
          "name": "stdout"
        },
        {
          "output_type": "stream",
          "text": [
            "\n",
            " 54%|█████▍    | 27/50 [01:14<01:02,  2.74s/it]\u001b[A"
          ],
          "name": "stderr"
        },
        {
          "output_type": "stream",
          "text": [
            "epoch : 26, LOSS : 0.0009998709429055452\n"
          ],
          "name": "stdout"
        },
        {
          "output_type": "stream",
          "text": [
            "\n",
            " 56%|█████▌    | 28/50 [01:16<01:00,  2.74s/it]\u001b[A"
          ],
          "name": "stderr"
        },
        {
          "output_type": "stream",
          "text": [
            "epoch : 27, LOSS : 1.086252615634109e-10\n"
          ],
          "name": "stdout"
        },
        {
          "output_type": "stream",
          "text": [
            "\n",
            " 58%|█████▊    | 29/50 [01:19<00:57,  2.74s/it]\u001b[A"
          ],
          "name": "stderr"
        },
        {
          "output_type": "stream",
          "text": [
            "epoch : 28, LOSS : 8.987057320553049e-09\n"
          ],
          "name": "stdout"
        },
        {
          "output_type": "stream",
          "text": [
            "\n",
            " 60%|██████    | 30/50 [01:22<00:54,  2.75s/it]\u001b[A"
          ],
          "name": "stderr"
        },
        {
          "output_type": "stream",
          "text": [
            "epoch : 29, LOSS : 8.454095062893074e-12\n"
          ],
          "name": "stdout"
        },
        {
          "output_type": "stream",
          "text": [
            "\n",
            " 62%|██████▏   | 31/50 [01:25<00:52,  2.75s/it]\u001b[A"
          ],
          "name": "stderr"
        },
        {
          "output_type": "stream",
          "text": [
            "epoch : 30, LOSS : 1.0490385686859338e-12\n"
          ],
          "name": "stdout"
        },
        {
          "output_type": "stream",
          "text": [
            "\n",
            " 64%|██████▍   | 32/50 [01:27<00:49,  2.75s/it]\u001b[A"
          ],
          "name": "stderr"
        },
        {
          "output_type": "stream",
          "text": [
            "epoch : 31, LOSS : 1.1491550111486504e-07\n"
          ],
          "name": "stdout"
        },
        {
          "output_type": "stream",
          "text": [
            "\n",
            " 66%|██████▌   | 33/50 [01:30<00:46,  2.75s/it]\u001b[A"
          ],
          "name": "stderr"
        },
        {
          "output_type": "stream",
          "text": [
            "epoch : 32, LOSS : 6.429354271197951e-10\n"
          ],
          "name": "stdout"
        },
        {
          "output_type": "stream",
          "text": [
            "\n",
            " 68%|██████▊   | 34/50 [01:33<00:44,  2.75s/it]\u001b[A"
          ],
          "name": "stderr"
        },
        {
          "output_type": "stream",
          "text": [
            "epoch : 33, LOSS : 3.837399617623305e-06\n"
          ],
          "name": "stdout"
        },
        {
          "output_type": "stream",
          "text": [
            "\n",
            " 70%|███████   | 35/50 [01:36<00:41,  2.75s/it]\u001b[A"
          ],
          "name": "stderr"
        },
        {
          "output_type": "stream",
          "text": [
            "epoch : 34, LOSS : 4.522462404565886e-05\n"
          ],
          "name": "stdout"
        },
        {
          "output_type": "stream",
          "text": [
            "\n",
            " 72%|███████▏  | 36/50 [01:38<00:38,  2.75s/it]\u001b[A"
          ],
          "name": "stderr"
        },
        {
          "output_type": "stream",
          "text": [
            "epoch : 35, LOSS : 7.723067028564401e-06\n"
          ],
          "name": "stdout"
        },
        {
          "output_type": "stream",
          "text": [
            "\n",
            " 74%|███████▍  | 37/50 [01:41<00:35,  2.75s/it]\u001b[A"
          ],
          "name": "stderr"
        },
        {
          "output_type": "stream",
          "text": [
            "epoch : 36, LOSS : 2.333386817099381e-07\n"
          ],
          "name": "stdout"
        },
        {
          "output_type": "stream",
          "text": [
            "\n",
            " 76%|███████▌  | 38/50 [01:44<00:33,  2.75s/it]\u001b[A"
          ],
          "name": "stderr"
        },
        {
          "output_type": "stream",
          "text": [
            "epoch : 37, LOSS : 0.00012822577264159918\n"
          ],
          "name": "stdout"
        },
        {
          "output_type": "stream",
          "text": [
            "\n",
            " 78%|███████▊  | 39/50 [01:47<00:30,  2.75s/it]\u001b[A"
          ],
          "name": "stderr"
        },
        {
          "output_type": "stream",
          "text": [
            "epoch : 38, LOSS : 1.0623208979154697e-09\n"
          ],
          "name": "stdout"
        },
        {
          "output_type": "stream",
          "text": [
            "\n",
            " 80%|████████  | 40/50 [01:49<00:27,  2.75s/it]\u001b[A"
          ],
          "name": "stderr"
        },
        {
          "output_type": "stream",
          "text": [
            "epoch : 39, LOSS : 2.7066590746471775e-08\n"
          ],
          "name": "stdout"
        },
        {
          "output_type": "stream",
          "text": [
            "\n",
            " 82%|████████▏ | 41/50 [01:52<00:24,  2.74s/it]\u001b[A"
          ],
          "name": "stderr"
        },
        {
          "output_type": "stream",
          "text": [
            "epoch : 40, LOSS : 2.7598915153248527e-07\n"
          ],
          "name": "stdout"
        },
        {
          "output_type": "stream",
          "text": [
            "\n",
            " 84%|████████▍ | 42/50 [01:55<00:21,  2.74s/it]\u001b[A"
          ],
          "name": "stderr"
        },
        {
          "output_type": "stream",
          "text": [
            "epoch : 41, LOSS : 1.0613310053031455e-07\n"
          ],
          "name": "stdout"
        },
        {
          "output_type": "stream",
          "text": [
            "\n",
            " 86%|████████▌ | 43/50 [01:58<00:19,  2.74s/it]\u001b[A"
          ],
          "name": "stderr"
        },
        {
          "output_type": "stream",
          "text": [
            "epoch : 42, LOSS : 3.766211011679843e-05\n"
          ],
          "name": "stdout"
        },
        {
          "output_type": "stream",
          "text": [
            "\n",
            " 88%|████████▊ | 44/50 [02:00<00:16,  2.74s/it]\u001b[A"
          ],
          "name": "stderr"
        },
        {
          "output_type": "stream",
          "text": [
            "epoch : 43, LOSS : 1.0430620022816584e-05\n"
          ],
          "name": "stdout"
        },
        {
          "output_type": "stream",
          "text": [
            "\n",
            " 90%|█████████ | 45/50 [02:03<00:13,  2.74s/it]\u001b[A"
          ],
          "name": "stderr"
        },
        {
          "output_type": "stream",
          "text": [
            "epoch : 44, LOSS : 1.592299696540067e-07\n"
          ],
          "name": "stdout"
        },
        {
          "output_type": "stream",
          "text": [
            "\n",
            " 92%|█████████▏| 46/50 [02:06<00:10,  2.74s/it]\u001b[A"
          ],
          "name": "stderr"
        },
        {
          "output_type": "stream",
          "text": [
            "epoch : 45, LOSS : 1.988301079336452e-07\n"
          ],
          "name": "stdout"
        },
        {
          "output_type": "stream",
          "text": [
            "\n",
            " 94%|█████████▍| 47/50 [02:09<00:08,  2.74s/it]\u001b[A"
          ],
          "name": "stderr"
        },
        {
          "output_type": "stream",
          "text": [
            "epoch : 46, LOSS : 5.372746691989505e-09\n"
          ],
          "name": "stdout"
        },
        {
          "output_type": "stream",
          "text": [
            "\n",
            " 96%|█████████▌| 48/50 [02:11<00:05,  2.74s/it]\u001b[A"
          ],
          "name": "stderr"
        },
        {
          "output_type": "stream",
          "text": [
            "epoch : 47, LOSS : 3.7179474776660726e-11\n"
          ],
          "name": "stdout"
        },
        {
          "output_type": "stream",
          "text": [
            "\n",
            " 98%|█████████▊| 49/50 [02:14<00:02,  2.74s/it]\u001b[A"
          ],
          "name": "stderr"
        },
        {
          "output_type": "stream",
          "text": [
            "epoch : 48, LOSS : 7.826168439351022e-05\n"
          ],
          "name": "stdout"
        },
        {
          "output_type": "stream",
          "text": [
            "\n",
            "100%|██████████| 50/50 [02:17<00:00,  2.74s/it]"
          ],
          "name": "stderr"
        },
        {
          "output_type": "stream",
          "text": [
            "epoch : 49, LOSS : 2.7686797299253385e-10\n"
          ],
          "name": "stdout"
        },
        {
          "output_type": "stream",
          "text": [
            "\n"
          ],
          "name": "stderr"
        }
      ]
    },
    {
      "cell_type": "code",
      "metadata": {
        "id": "47jpQgk36HRn",
        "outputId": "f3b9da0b-26ad-43d1-b45e-a0a43fd2b661",
        "colab": {
          "base_uri": "https://localhost:8080/"
        }
      },
      "source": [
        "correct = 0.0\n",
        "total = 0.0\n",
        "with torch.no_grad():\n",
        "  for i in tqdm(range(len(val_x))):\n",
        "    pred = torch.argmax(net(val_x[i].view(-1, 1, 50, 50).to(device)))\n",
        "    real = torch.argmax(val_y[i].to(device))\n",
        "    if pred == real:\n",
        "      correct += 1\n",
        "    total += 1\n",
        "\n",
        "print('ACCURACY : ', correct/total)  "
      ],
      "execution_count": 30,
      "outputs": [
        {
          "output_type": "stream",
          "text": [
            "\n",
            "  0%|          | 0/3742 [00:00<?, ?it/s]\u001b[A\n",
            "  3%|▎         | 102/3742 [00:00<00:03, 1008.83it/s]\u001b[A\n",
            "  6%|▌         | 207/3742 [00:00<00:03, 1018.80it/s]\u001b[A\n",
            "  8%|▊         | 312/3742 [00:00<00:03, 1027.92it/s]\u001b[A\n",
            " 11%|█         | 420/3742 [00:00<00:03, 1040.74it/s]\u001b[A\n",
            " 14%|█▍        | 527/3742 [00:00<00:03, 1048.15it/s]\u001b[A\n",
            " 17%|█▋        | 637/3742 [00:00<00:02, 1061.82it/s]\u001b[A\n",
            " 20%|█▉        | 745/3742 [00:00<00:02, 1066.72it/s]\u001b[A\n",
            " 23%|██▎       | 854/3742 [00:00<00:02, 1073.22it/s]\u001b[A\n",
            " 26%|██▌       | 962/3742 [00:00<00:02, 1074.90it/s]\u001b[A\n",
            " 28%|██▊       | 1066/3742 [00:01<00:02, 1059.08it/s]\u001b[A\n",
            " 31%|███▏      | 1176/3742 [00:01<00:02, 1068.34it/s]\u001b[A\n",
            " 34%|███▍      | 1281/3742 [00:01<00:02, 1056.50it/s]\u001b[A\n",
            " 37%|███▋      | 1388/3742 [00:01<00:02, 1059.55it/s]\u001b[A\n",
            " 40%|███▉      | 1496/3742 [00:01<00:02, 1065.57it/s]\u001b[A\n",
            " 43%|████▎     | 1602/3742 [00:01<00:02, 1062.82it/s]\u001b[A\n",
            " 46%|████▌     | 1711/3742 [00:01<00:01, 1067.66it/s]\u001b[A\n",
            " 49%|████▉     | 1825/3742 [00:01<00:01, 1086.20it/s]\u001b[A\n",
            " 52%|█████▏    | 1957/3742 [00:01<00:01, 1146.02it/s]\u001b[A\n",
            " 56%|█████▌    | 2086/3742 [00:01<00:01, 1183.92it/s]\u001b[A\n",
            " 59%|█████▉    | 2212/3742 [00:02<00:01, 1203.48it/s]\u001b[A\n",
            " 63%|██████▎   | 2345/3742 [00:02<00:01, 1238.81it/s]\u001b[A\n",
            " 66%|██████▌   | 2472/3742 [00:02<00:01, 1247.98it/s]\u001b[A\n",
            " 70%|██████▉   | 2606/3742 [00:02<00:00, 1273.08it/s]\u001b[A\n",
            " 73%|███████▎  | 2744/3742 [00:02<00:00, 1300.26it/s]\u001b[A\n",
            " 77%|███████▋  | 2875/3742 [00:02<00:00, 1255.32it/s]\u001b[A\n",
            " 80%|████████  | 3012/3742 [00:02<00:00, 1285.60it/s]\u001b[A\n",
            " 84%|████████▍ | 3147/3742 [00:02<00:00, 1304.14it/s]\u001b[A\n",
            " 88%|████████▊ | 3280/3742 [00:02<00:00, 1309.87it/s]\u001b[A\n",
            " 91%|█████████ | 3412/3742 [00:02<00:00, 1309.20it/s]\u001b[A\n",
            " 95%|█████████▍| 3544/3742 [00:03<00:00, 1298.85it/s]\u001b[A\n",
            "100%|██████████| 3742/3742 [00:03<00:00, 1175.09it/s]"
          ],
          "name": "stderr"
        },
        {
          "output_type": "stream",
          "text": [
            "ACCURACY :  0.780331373597007\n"
          ],
          "name": "stdout"
        },
        {
          "output_type": "stream",
          "text": [
            "\n"
          ],
          "name": "stderr"
        }
      ]
    },
    {
      "cell_type": "code",
      "metadata": {
        "id": "T1yXwT9nM9Xj"
      },
      "source": [
        ""
      ],
      "execution_count": null,
      "outputs": []
    }
  ]
}